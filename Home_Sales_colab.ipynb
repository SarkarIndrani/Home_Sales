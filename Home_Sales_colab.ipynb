{
 "cells": [
  {
   "cell_type": "code",
   "execution_count": null,
   "metadata": {
    "colab": {
     "base_uri": "https://localhost:8080/"
    },
    "id": "a_KW73O2e3dw",
    "outputId": "153896c3-e979-488e-81db-90bf57a764de"
   },
   "outputs": [
    {
     "name": "stdout",
     "output_type": "stream",
     "text": [
      "\r",
      "0% [Working]\r",
      "            \r",
      "Get:1 https://cloud.r-project.org/bin/linux/ubuntu focal-cran40/ InRelease [3,622 B]\n",
      "\r",
      "0% [Connecting to archive.ubuntu.com (91.189.91.38)] [Connecting to security.ub\r",
      "0% [Connecting to archive.ubuntu.com (91.189.91.38)] [Connecting to security.ub\r",
      "                                                                               \r",
      "Get:2 https://developer.download.nvidia.com/compute/cuda/repos/ubuntu2004/x86_64  InRelease [1,581 B]\n",
      "\r",
      "0% [Waiting for headers] [Connecting to security.ubuntu.com (185.125.190.39)] [\r",
      "                                                                               \r",
      "Hit:3 http://archive.ubuntu.com/ubuntu focal InRelease\n",
      "Get:4 http://archive.ubuntu.com/ubuntu focal-updates InRelease [114 kB]\n",
      "Get:5 http://security.ubuntu.com/ubuntu focal-security InRelease [114 kB]\n",
      "Get:6 http://ppa.launchpad.net/c2d4u.team/c2d4u4.0+/ubuntu focal InRelease [18.1 kB]\n",
      "Get:7 https://developer.download.nvidia.com/compute/cuda/repos/ubuntu2004/x86_64  Packages [1,011 kB]\n",
      "Get:8 http://archive.ubuntu.com/ubuntu focal-backports InRelease [108 kB]\n",
      "Hit:9 http://ppa.launchpad.net/cran/libgit2/ubuntu focal InRelease\n",
      "Get:10 http://archive.ubuntu.com/ubuntu focal-updates/main amd64 Packages [3,252 kB]\n",
      "Hit:11 http://ppa.launchpad.net/deadsnakes/ppa/ubuntu focal InRelease\n",
      "Get:12 http://archive.ubuntu.com/ubuntu focal-updates/universe amd64 Packages [1,351 kB]\n",
      "Get:13 http://security.ubuntu.com/ubuntu focal-security/universe amd64 Packages [1,056 kB]\n",
      "Hit:14 http://ppa.launchpad.net/graphics-drivers/ppa/ubuntu focal InRelease\n",
      "Hit:15 http://ppa.launchpad.net/ubuntugis/ppa/ubuntu focal InRelease\n",
      "Get:16 http://ppa.launchpad.net/c2d4u.team/c2d4u4.0+/ubuntu focal/main Sources [2,584 kB]\n",
      "Get:17 http://security.ubuntu.com/ubuntu focal-security/restricted amd64 Packages [2,345 kB]\n",
      "Get:18 http://security.ubuntu.com/ubuntu focal-security/main amd64 Packages [2,773 kB]\n",
      "Get:19 http://ppa.launchpad.net/c2d4u.team/c2d4u4.0+/ubuntu focal/main amd64 Packages [1,219 kB]\n",
      "Fetched 15.9 MB in 4s (4,034 kB/s)\n",
      "Reading package lists... Done\n"
     ]
    }
   ],
   "source": [
    "import os\n",
    "# Find the latest version of spark 3.x  from http://www.apache.org/dist/spark/ and enter as the spark version\n",
    "# For example:\n",
    "# spark_version = 'spark-3.3.2'\n",
    "spark_version = 'spark-3.3.2'\n",
    "os.environ['SPARK_VERSION']=spark_version\n",
    "\n",
    "# Install Spark and Java\n",
    "!apt-get update\n",
    "!apt-get install openjdk-11-jdk-headless -qq > /dev/null\n",
    "!wget -q http://www.apache.org/dist/spark/$SPARK_VERSION/$SPARK_VERSION-bin-hadoop2.tgz\n",
    "!tar xf $SPARK_VERSION-bin-hadoop2.tgz\n",
    "!pip install -q findspark\n",
    "\n",
    "# Set Environment Variables\n",
    "os.environ[\"JAVA_HOME\"] = \"/usr/lib/jvm/java-11-openjdk-amd64\"\n",
    "os.environ[\"SPARK_HOME\"] = f\"/content/{spark_version}-bin-hadoop2\"\n",
    "\n",
    "# Start a SparkSession\n",
    "import findspark\n",
    "findspark.init()"
   ]
  },
  {
   "cell_type": "code",
   "execution_count": null,
   "metadata": {
    "id": "2XbWNf1Te5fM"
   },
   "outputs": [],
   "source": [
    "# Import packages\n",
    "from pyspark.sql import SparkSession\n",
    "import time\n",
    "\n",
    "# Create a SparkSession\n",
    "spark = SparkSession.builder.appName(\"SparkSQL\").getOrCreate()"
   ]
  },
  {
   "cell_type": "code",
   "execution_count": null,
   "metadata": {
    "colab": {
     "base_uri": "https://localhost:8080/"
    },
    "id": "wOJqxG_RPSwp",
    "outputId": "6fa3f673-0166-4dde-f64c-3680774d059d"
   },
   "outputs": [
    {
     "name": "stdout",
     "output_type": "stream",
     "text": [
      "+--------------------+----------+----------+------+--------+---------+-----------+--------+------+----------+----+\n",
      "|                  id|      date|date_built| price|bedrooms|bathrooms|sqft_living|sqft_lot|floors|waterfront|view|\n",
      "+--------------------+----------+----------+------+--------+---------+-----------+--------+------+----------+----+\n",
      "|f8a53099-ba1c-47d...|2022-04-08|      2016|936923|       4|        3|       3167|   11733|     2|         1|  76|\n",
      "|7530a2d8-1ae3-451...|2021-06-13|      2013|379628|       2|        2|       2235|   14384|     1|         0|  23|\n",
      "|43de979c-0bf0-4c9...|2019-04-12|      2014|417866|       2|        2|       2127|   10575|     2|         0|   0|\n",
      "|b672c137-b88c-48b...|2019-10-16|      2016|239895|       2|        2|       1631|   11149|     2|         0|   0|\n",
      "|e0726d4d-d595-407...|2022-01-08|      2017|424418|       3|        2|       2249|   13878|     2|         0|   4|\n",
      "|5aa00529-0533-46b...|2019-01-30|      2017|218712|       2|        3|       1965|   14375|     2|         0|   7|\n",
      "|131492a1-72e2-4a8...|2020-02-08|      2017|419199|       2|        3|       2062|    8876|     2|         0|   6|\n",
      "|8d54a71b-c520-44e...|2019-07-21|      2010|323956|       2|        3|       1506|   11816|     1|         0|  25|\n",
      "|e81aacfe-17fe-46b...|2020-06-16|      2016|181925|       3|        3|       2137|   11709|     2|         0|  22|\n",
      "|2ed8d509-7372-46d...|2021-08-06|      2015|258710|       3|        3|       1918|    9666|     1|         0|  25|\n",
      "|f876d86f-3c9f-42b...|2019-02-27|      2011|167864|       3|        3|       2471|   13924|     2|         0|  15|\n",
      "|0a2bd445-8508-4d8...|2021-12-30|      2014|337527|       2|        3|       1926|   12556|     1|         0|  23|\n",
      "|941bad30-eb49-4a7...|2020-05-09|      2015|229896|       3|        3|       2197|    8641|     1|         0|   3|\n",
      "|dd61eb34-6589-4c0...|2021-07-25|      2016|210247|       3|        2|       1672|   11986|     2|         0|  28|\n",
      "|f1e4cef7-d151-439...|2019-02-01|      2011|398667|       2|        3|       2331|   11356|     1|         0|   7|\n",
      "|ea620c7b-c2f7-4c6...|2021-05-31|      2011|437958|       3|        3|       2356|   11052|     1|         0|  26|\n",
      "|f233cb41-6f33-4b0...|2021-07-18|      2016|437375|       4|        3|       1704|   11721|     2|         0|  34|\n",
      "|c797ca12-52cd-4b1...|2019-06-08|      2015|288650|       2|        3|       2100|   10419|     2|         0|   7|\n",
      "|0cfe57f3-28c2-472...|2019-10-04|      2015|308313|       3|        3|       1960|    9453|     2|         0|   2|\n",
      "|4566cd2a-ac6e-435...|2019-07-15|      2016|177541|       3|        3|       2130|   10517|     2|         0|  25|\n",
      "+--------------------+----------+----------+------+--------+---------+-----------+--------+------+----------+----+\n",
      "only showing top 20 rows\n",
      "\n"
     ]
    }
   ],
   "source": [
    "# 1. Read in the AWS S3 bucket into a DataFrame.\n",
    "from pyspark import SparkFiles\n",
    "url = \"https://2u-data-curriculum-team.s3.amazonaws.com/dataviz-classroom/v1.2/22-big-data/home_sales_revised.csv\"\n",
    "spark.sparkContext.addFile(url)\n",
    "home_sales_df = spark.read.option('header', 'true').csv(SparkFiles.get(\"home_sales_revised.csv\"), inferSchema=True, sep=',', timestampFormat=\"mm/dd/yy\")\n",
    "\n",
    "home_sales_df.show()\n"
   ]
  },
  {
   "cell_type": "code",
   "execution_count": null,
   "metadata": {
    "id": "RoljcJ7WPpnm"
   },
   "outputs": [],
   "source": [
    "# 2. Create a temporary view of the DataFrame.\n",
    "home_sales_df.createOrReplaceTempView('houseSale')\n"
   ]
  },
  {
   "cell_type": "code",
   "execution_count": null,
   "metadata": {
    "colab": {
     "base_uri": "https://localhost:8080/"
    },
    "id": "L6fkwOeOmqvq",
    "outputId": "74fcfef3-75af-4423-8a1e-421e6e02468a"
   },
   "outputs": [
    {
     "name": "stdout",
     "output_type": "stream",
     "text": [
      "+----------+---------+\n",
      "|date_built|avg_price|\n",
      "+----------+---------+\n",
      "|      2017|296576.69|\n",
      "|      2016|296050.24|\n",
      "|      2015|307908.86|\n",
      "|      2014|299073.89|\n",
      "|      2013|299999.39|\n",
      "|      2012|298233.42|\n",
      "|      2011| 302141.9|\n",
      "|      2010|296800.75|\n",
      "+----------+---------+\n",
      "\n"
     ]
    }
   ],
   "source": [
    "# 3. What is the average price for a four bedroom house sold in each year rounded to two decimal places?\n",
    "\n",
    "spark.sql(\"\"\"\n",
    "           SELECT date_built, ROUND(AVG(price), 2) as avg_price\n",
    "           FROM houseSale\n",
    "           WHERE bedrooms = 4\n",
    "           GROUP BY date_built\n",
    "           ORDER BY date_built DESC\n",
    "           \"\"\").show()"
   ]
  },
  {
   "cell_type": "code",
   "execution_count": null,
   "metadata": {
    "colab": {
     "base_uri": "https://localhost:8080/"
    },
    "id": "l8p_tUS8h8it",
    "outputId": "046a9ef3-5c28-477d-d293-aa9d933250b7"
   },
   "outputs": [
    {
     "name": "stdout",
     "output_type": "stream",
     "text": [
      "+----------+---------+\n",
      "|date_built|avg_price|\n",
      "+----------+---------+\n",
      "|      2017|292676.79|\n",
      "|      2016|290555.07|\n",
      "|      2015| 288770.3|\n",
      "|      2014|290852.27|\n",
      "|      2013|295962.27|\n",
      "|      2012|293683.19|\n",
      "|      2011|291117.47|\n",
      "|      2010|292859.62|\n",
      "+----------+---------+\n",
      "\n"
     ]
    }
   ],
   "source": [
    "# 4. What is the average price of a home for each year the home was built that have 3 bedrooms and 3 bathrooms rounded to two decimal places?\n",
    "spark.sql(\"\"\"\n",
    "           SELECT date_built, ROUND(AVG(price), 2) as avg_price\n",
    "           FROM houseSale\n",
    "           WHERE bedrooms = 3 AND bathrooms = 3\n",
    "           GROUP BY date_built\n",
    "           ORDER BY 1 DESC\n",
    "           \"\"\").show()\n"
   ]
  },
  {
   "cell_type": "code",
   "execution_count": null,
   "metadata": {
    "colab": {
     "base_uri": "https://localhost:8080/"
    },
    "id": "Y-Eytz64liDU",
    "outputId": "21692a7f-8bb3-4088-a804-aa7c94caeb11"
   },
   "outputs": [
    {
     "name": "stdout",
     "output_type": "stream",
     "text": [
      "+----------+---------+\n",
      "|date_built|avg_price|\n",
      "+----------+---------+\n",
      "|      2017|280317.58|\n",
      "|      2016| 293965.1|\n",
      "|      2015|297609.97|\n",
      "|      2014|298264.72|\n",
      "|      2013|303676.79|\n",
      "|      2012|307539.97|\n",
      "|      2011|276553.81|\n",
      "|      2010|285010.22|\n",
      "+----------+---------+\n",
      "\n"
     ]
    }
   ],
   "source": [
    "# 5. What is the average price of a home for each year built that have 3 bedrooms, 3 bathrooms, with two floors,\n",
    "# and are greater than or equal to 2,000 square feet rounded to two decimal places?\n",
    "spark.sql(\"\"\"\n",
    "           SELECT date_built, ROUND(AVG(price), 2) as avg_price\n",
    "           FROM houseSale\n",
    "           WHERE bedrooms = 3 AND bathrooms = 3 AND floors = 2 AND sqft_living >= 2000\n",
    "           GROUP BY date_built\n",
    "           ORDER BY 1 DESC\n",
    "           \"\"\").show()\n",
    "\n"
   ]
  },
  {
   "cell_type": "code",
   "execution_count": null,
   "metadata": {
    "colab": {
     "base_uri": "https://localhost:8080/"
    },
    "id": "GUrfgOX1pCRd",
    "outputId": "95c5f0f7-0f2c-49eb-dff7-97288e1a7ef6"
   },
   "outputs": [
    {
     "name": "stdout",
     "output_type": "stream",
     "text": [
      "+----+------------------+\n",
      "|view|        avg(price)|\n",
      "+----+------------------+\n",
      "|  31|399856.95135135134|\n",
      "|  85|1056336.7435897435|\n",
      "|  65| 736679.9333333333|\n",
      "|  53|          755214.8|\n",
      "|  78|1080649.3666666667|\n",
      "|  34| 401419.7451923077|\n",
      "|  81|1053472.7878787878|\n",
      "|  28|402124.62176165805|\n",
      "|  76|1058802.7777777778|\n",
      "|  26|401506.96774193546|\n",
      "|  27| 399537.6586826347|\n",
      "|  44|400598.04761904763|\n",
      "|  12| 401501.3243243243|\n",
      "|  91| 1137372.731707317|\n",
      "|  22| 402022.6847826087|\n",
      "|  93|1026006.0606060605|\n",
      "|  47| 398447.4976744186|\n",
      "|   1| 401044.2513368984|\n",
      "|  52| 733780.2608695652|\n",
      "|  13|         398917.98|\n",
      "+----+------------------+\n",
      "only showing top 20 rows\n",
      "\n",
      "--- 0.7600610256195068 seconds ---\n"
     ]
    }
   ],
   "source": [
    "# 6. What is the \"view\" rating for the average price of a home, rounded to two decimal places, where the homes are greater than\n",
    "# or equal to $350,000? Although this is a small dataset, determine the run time for this query.\n",
    "\n",
    "start_time = time.time()\n",
    "\n",
    "spark.sql(\"SELECT view, avg(price) FROM houseSale where price > 350000 group by view\").show()\n",
    "\n",
    "print(\"--- %s seconds ---\" % (time.time() - start_time))"
   ]
  },
  {
   "cell_type": "code",
   "execution_count": null,
   "metadata": {
    "colab": {
     "base_uri": "https://localhost:8080/"
    },
    "id": "KAhk3ZD2tFy8",
    "outputId": "4e698274-a3e5-423e-e5c7-ed0bbb13b8c9"
   },
   "outputs": [
    {
     "data": {
      "text/plain": [
       "DataFrame[]"
      ]
     },
     "execution_count": 9,
     "metadata": {},
     "output_type": "execute_result"
    }
   ],
   "source": [
    "# 7. Cache the the temporary table home_sales.\n",
    "spark.sql(\"CACHE TABLE houseSale\")"
   ]
  },
  {
   "cell_type": "code",
   "execution_count": null,
   "metadata": {
    "colab": {
     "base_uri": "https://localhost:8080/"
    },
    "id": "4opVhbvxtL-i",
    "outputId": "1a45a2b6-6400-4048-ab6e-ea5d7940f4f7"
   },
   "outputs": [
    {
     "data": {
      "text/plain": [
       "True"
      ]
     },
     "execution_count": 10,
     "metadata": {},
     "output_type": "execute_result"
    }
   ],
   "source": [
    "# 8. Check if the table is cached.\n",
    "spark.catalog.isCached('houseSale')"
   ]
  },
  {
   "cell_type": "code",
   "execution_count": null,
   "metadata": {
    "colab": {
     "base_uri": "https://localhost:8080/"
    },
    "id": "5GnL46lwTSEk",
    "outputId": "af065486-d6ff-4097-9246-996a2ffd90b4"
   },
   "outputs": [
    {
     "name": "stdout",
     "output_type": "stream",
     "text": [
      "+----+------------------+\n",
      "|view|        avg(price)|\n",
      "+----+------------------+\n",
      "|  31|399856.95135135134|\n",
      "|  85|1056336.7435897435|\n",
      "|  65| 736679.9333333333|\n",
      "|  53|          755214.8|\n",
      "|  78|1080649.3666666667|\n",
      "|  34| 401419.7451923077|\n",
      "|  81|1053472.7878787878|\n",
      "|  28|402124.62176165805|\n",
      "|  76|1058802.7777777778|\n",
      "|  26|401506.96774193546|\n",
      "|  27| 399537.6586826347|\n",
      "|  44|400598.04761904763|\n",
      "|  12| 401501.3243243243|\n",
      "|  91| 1137372.731707317|\n",
      "|  22| 402022.6847826087|\n",
      "|  93|1026006.0606060605|\n",
      "|  47| 398447.4976744186|\n",
      "|   1| 401044.2513368984|\n",
      "|  52| 733780.2608695652|\n",
      "|  13|         398917.98|\n",
      "+----+------------------+\n",
      "only showing top 20 rows\n",
      "\n",
      "--- 0.501685380935669 seconds ---\n"
     ]
    }
   ],
   "source": [
    "# 9. Using the cached data, run the query that filters out the view ratings with average price \n",
    "#  greater than or equal to $350,000. Determine the runtime and compare it to uncached runtime.\n",
    "\n",
    "start_time = time.time()\n",
    "\n",
    "spark.sql(\"SELECT view, avg(price) FROM houseSale where price > 350000 group by view\").show()\n",
    "\n",
    "print(\"--- %s seconds ---\" % (time.time() - start_time))\n"
   ]
  },
  {
   "cell_type": "code",
   "execution_count": null,
   "metadata": {
    "id": "Qm12WN9isHBR"
   },
   "outputs": [],
   "source": [
    "# 10. Partition by the \"date_built\" field on the formatted parquet home sales data \n",
    "home_sales_df.write.partitionBy(\"date_built\").mode(\"overwrite\").parquet('houseSale')"
   ]
  },
  {
   "cell_type": "code",
   "execution_count": null,
   "metadata": {
    "id": "AZ7BgY61sRqY"
   },
   "outputs": [],
   "source": [
    "# 11. Read the parquet formatted data.\n",
    "p_df = spark.read.parquet('houseSale')"
   ]
  },
  {
   "cell_type": "code",
   "execution_count": null,
   "metadata": {
    "id": "J6MJkHfvVcvh"
   },
   "outputs": [],
   "source": [
    "# 12. Create a temporary table for the parquet data.\n",
    "p_df.createOrReplaceTempView('houseSale')"
   ]
  },
  {
   "cell_type": "code",
   "execution_count": null,
   "metadata": {
    "colab": {
     "base_uri": "https://localhost:8080/"
    },
    "id": "G_Vhb52rU1Sn",
    "outputId": "6a064222-a882-4916-a4a7-0af1564fb490"
   },
   "outputs": [
    {
     "name": "stdout",
     "output_type": "stream",
     "text": [
      "+----+------------------+\n",
      "|view|        avg(price)|\n",
      "+----+------------------+\n",
      "|  31|399856.95135135134|\n",
      "|  85|1056336.7435897435|\n",
      "|  65| 736679.9333333333|\n",
      "|  53|          755214.8|\n",
      "|  78|1080649.3666666667|\n",
      "|  34| 401419.7451923077|\n",
      "|  81|1053472.7878787878|\n",
      "|  28|402124.62176165805|\n",
      "|  76|1058802.7777777778|\n",
      "|  26|401506.96774193546|\n",
      "|  27| 399537.6586826347|\n",
      "|  44|400598.04761904763|\n",
      "|  12| 401501.3243243243|\n",
      "|  91| 1137372.731707317|\n",
      "|  22| 402022.6847826087|\n",
      "|  93|1026006.0606060605|\n",
      "|  47| 398447.4976744186|\n",
      "|   1| 401044.2513368984|\n",
      "|  52| 733780.2608695652|\n",
      "|  13|         398917.98|\n",
      "+----+------------------+\n",
      "only showing top 20 rows\n",
      "\n",
      "--- 0.7910408973693848 seconds ---\n"
     ]
    }
   ],
   "source": [
    "# 13. Run the query that filters out the view ratings with average price of greater than or equal to $350,000 \n",
    "# with the parquet DataFrame. Round your average to two decimal places. \n",
    "# Determine the runtime and compare it to the cached version.\n",
    "\n",
    "start_time = time.time()\n",
    "\n",
    "spark.sql(\"SELECT view, avg(price) FROM houseSale where price > 350000 group by view\").show()\n",
    "\n",
    "print(\"--- %s seconds ---\" % (time.time() - start_time))"
   ]
  },
  {
   "cell_type": "code",
   "execution_count": null,
   "metadata": {
    "colab": {
     "base_uri": "https://localhost:8080/"
    },
    "id": "hjjYzQGjtbq8",
    "outputId": "027c01ed-91f0-4d17-9818-331e3e708bc9"
   },
   "outputs": [
    {
     "data": {
      "text/plain": [
       "DataFrame[]"
      ]
     },
     "execution_count": 16,
     "metadata": {},
     "output_type": "execute_result"
    }
   ],
   "source": [
    "# 14. Uncache the home_sales temporary table.\n",
    "spark.sql(\"UNCACHE TABLE houseSale\")"
   ]
  },
  {
   "cell_type": "code",
   "execution_count": null,
   "metadata": {
    "colab": {
     "base_uri": "https://localhost:8080/"
    },
    "id": "Sy9NBvO7tlmm",
    "outputId": "bf267cc6-1ab7-4354-ea26-5f89dad4a9f9"
   },
   "outputs": [
    {
     "data": {
      "text/plain": [
       "False"
      ]
     },
     "execution_count": 17,
     "metadata": {},
     "output_type": "execute_result"
    }
   ],
   "source": [
    "# 15. Check if the home_sales is no longer cached\n",
    "\n",
    "spark.catalog.isCached('houseSale')"
   ]
  },
  {
   "cell_type": "code",
   "execution_count": null,
   "metadata": {
    "id": "Si-BNruRUGK3"
   },
   "outputs": [],
   "source": []
  }
 ],
 "metadata": {
  "colab": {
   "provenance": []
  },
  "gpuClass": "standard",
  "kernelspec": {
   "display_name": "Python 3 (ipykernel)",
   "language": "python",
   "name": "python3"
  },
  "language_info": {
   "codemirror_mode": {
    "name": "ipython",
    "version": 3
   },
   "file_extension": ".py",
   "mimetype": "text/x-python",
   "name": "python",
   "nbconvert_exporter": "python",
   "pygments_lexer": "ipython3",
   "version": "3.9.13"
  },
  "nteract": {
   "version": "0.28.0"
  }
 },
 "nbformat": 4,
 "nbformat_minor": 1
}
